{
 "cells": [
  {
   "cell_type": "markdown",
   "id": "61303e13",
   "metadata": {},
   "source": [
    "# Actividad 3 - Segmentación de Imagenes"
   ]
  },
  {
   "cell_type": "markdown",
   "id": "50f3d0b7",
   "metadata": {},
   "source": [
    "---\n",
    "Asignatura: **Percepción Computacional**\n",
    "\n",
    "Equipo: **1021H**\n",
    "\n",
    "Integrantes: **Christian López, Edgar Arteaga, Ayrton Emmanuel Teniente Muñiz**\n",
    "\n",
    "---"
   ]
  },
  {
   "cell_type": "markdown",
   "id": "1e81dc1a",
   "metadata": {},
   "source": [
    "## Objetivo"
   ]
  },
  {
   "cell_type": "markdown",
   "id": "5c3837a1",
   "metadata": {},
   "source": []
  },
  {
   "cell_type": "markdown",
   "id": "c489ec73",
   "metadata": {},
   "source": [
    "<img style=\"width: 50%; display: block; margin: auto;\" src=\"./resources/atrous-deeplab.png\"/>"
   ]
  }
 ],
 "metadata": {
  "language_info": {
   "name": "python"
  }
 },
 "nbformat": 4,
 "nbformat_minor": 5
}
